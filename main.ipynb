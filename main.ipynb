{
 "cells": [
  {
   "cell_type": "markdown",
   "metadata": {},
   "source": [
    "## Event camera demo\n",
    "**By Cedric Scheerlinck**  \n",
    "Tested on python3.7.5  \n",
    "Description: load and visualize events from a small dataset.  \n",
    "Based on https://github.com/cedric-scheerlinck/dvs_image_reconstruction\n",
    "\n",
    "\n",
    "Note: If interact doesn't work, try enabling ipywidgets and restarting jupyter notebook:  \n",
    "```jupyter nbextension enable --py widgetsnbextension```"
   ]
  },
  {
   "cell_type": "code",
   "execution_count": 1,
   "metadata": {},
   "outputs": [],
   "source": [
    "import numpy as np\n",
    "from IPython.display import HTML\n",
    "import time\n",
    "import pandas as pd\n",
    "import math\n",
    "import ipywidgets as widgets\n",
    "from ipywidgets import interact, fixed, interact_manual\n",
    "import matplotlib.pyplot as plt\n",
    "from matplotlib.animation import ArtistAnimation\n",
    "from matplotlib import rc\n",
    "rc('animation', html='jshtml')\n",
    "\n",
    "# local modules\n",
    "from util import Timer, Event, normalize_image, animate, load_events"
   ]
  },
  {
   "cell_type": "code",
   "execution_count": 2,
   "metadata": {},
   "outputs": [],
   "source": [
    "def high_pass_filter(events, cutoff_frequency=5):\n",
    "    print('Reconstructing, please wait...')\n",
    "    events_per_frame = 2e4\n",
    "    with Timer('Reconstruction'):\n",
    "        time_surface = np.zeros((height, width), dtype=np.float32)\n",
    "        image_state = np.zeros((height, width), dtype=np.float32)\n",
    "        image_list = []\n",
    "        for i, e in enumerate(events):\n",
    "            beta = math.exp(-cutoff_frequency * (e.t - time_surface[e.y, e.x]))\n",
    "            image_state[e.y, e.x] = beta * image_state[e.y, e.x] + e.p\n",
    "            time_surface[e.y, e.x] = e.t\n",
    "            if i % events_per_frame == 0:\n",
    "                beta = np.exp(-cutoff_frequency * (e.t - time_surface))\n",
    "                image_state *= beta\n",
    "                time_surface.fill(e.t)\n",
    "                image_list.append(np.copy(image_state))\n",
    "    return animate(image_list)\n",
    "\n",
    "def high_pass_filter_simple(events, beta=1.0):\n",
    "    print('Reconstructing, please wait...')\n",
    "    events_per_frame = 2e4\n",
    "    with Timer('Reconstruction (simple)'):\n",
    "        image_state = np.zeros((height, width), dtype=np.float32)\n",
    "        image_list = []\n",
    "        for i, e in enumerate(events):\n",
    "            image_state[e.y, e.x] = beta * image_state[e.y, e.x] + e.p\n",
    "            if i % events_per_frame == 0:\n",
    "                image_list.append(np.copy(image_state))\n",
    "    return animate(image_list)\n"
   ]
  },
  {
   "cell_type": "code",
   "execution_count": 3,
   "metadata": {},
   "outputs": [
    {
     "name": "stdout",
     "output_type": "stream",
     "text": [
      "width, height: 240, 180\n",
      "Loaded 0.50M events\n",
      "Loading: 0.95s\n"
     ]
    }
   ],
   "source": [
    "with Timer('Loading'):\n",
    "    n_events = 5e5\n",
    "    path_to_events = 'data/boxes_6dof/events.zip'\n",
    "    event_list, width, height = load_events(path_to_events, n_events)        "
   ]
  },
  {
   "cell_type": "markdown",
   "metadata": {},
   "source": [
    "## Image reconstruction\n",
    "Run the cell, then click ```Run Interact``` and wait for the animation to appear to see the result.  \n",
    "Use the slider then click ```Run Interact``` again to try different settings.\n",
    "\n",
    "### High pass filter (simple)\n",
    "Equation: $L^{k+1}(x, y) = \\beta L^k(x, y) + p,\\ \\beta \\in [0, 1],\\ p \\in \\{-1, 1\\}$, where $L$ is the log image intensity and $p$ is the event polarity.\n",
    "\n",
    "#### Set ```beta = 1``` for direct integration. Try lowering beta to see what happens."
   ]
  },
  {
   "cell_type": "code",
   "execution_count": 4,
   "metadata": {},
   "outputs": [
    {
     "data": {
      "application/vnd.jupyter.widget-view+json": {
       "model_id": "7095b39d82494a4492df27328c5cdf78",
       "version_major": 2,
       "version_minor": 0
      },
      "text/plain": [
       "interactive(children=(FloatSlider(value=1.0, description='beta', max=1.0, step=0.01), Button(description='Run …"
      ]
     },
     "metadata": {},
     "output_type": "display_data"
    }
   ],
   "source": [
    "interact_manual(high_pass_filter_simple, events=fixed(event_list), beta=(0, 1, 0.01));"
   ]
  },
  {
   "cell_type": "markdown",
   "metadata": {},
   "source": [
    "### High pass filter\n",
    "Below is the high pass filter as described in: https://cedric-scheerlinck.github.io/files/2018_scheerlinck_continuous-time_intensity_estimation.pdf  \n",
    "Equation: $L^{k+1}(x, y) = \\exp(-\\alpha \\Delta t) L^k(x, y) + p$, where $\\alpha$ is the cutoff frequency and $\\Delta t$ is the time since the last event at the same pixel."
   ]
  },
  {
   "cell_type": "code",
   "execution_count": 5,
   "metadata": {
    "scrolled": false
   },
   "outputs": [
    {
     "data": {
      "application/vnd.jupyter.widget-view+json": {
       "model_id": "9ff8627588234af086228c5065d4185d",
       "version_major": 2,
       "version_minor": 0
      },
      "text/plain": [
       "interactive(children=(FloatSlider(value=5.0, description='cutoff_frequency', max=10.0, step=0.01), Button(desc…"
      ]
     },
     "metadata": {},
     "output_type": "display_data"
    }
   ],
   "source": [
    "interact_manual(high_pass_filter, events=fixed(event_list), cutoff_frequency=(0, 10, 0.01));"
   ]
  },
  {
   "cell_type": "code",
   "execution_count": null,
   "metadata": {
    "collapsed": true
   },
   "outputs": [],
   "source": []
  }
 ],
 "metadata": {
  "kernelspec": {
   "display_name": "Python 3",
   "language": "python",
   "name": "python3"
  },
  "language_info": {
   "codemirror_mode": {
    "name": "ipython",
    "version": 3
   },
   "file_extension": ".py",
   "mimetype": "text/x-python",
   "name": "python",
   "nbconvert_exporter": "python",
   "pygments_lexer": "ipython3",
   "version": "3.7.5"
  },
  "varInspector": {
   "cols": {
    "lenName": 16,
    "lenType": 16,
    "lenVar": 40
   },
   "kernels_config": {
    "python": {
     "delete_cmd_postfix": "",
     "delete_cmd_prefix": "del ",
     "library": "var_list.py",
     "varRefreshCmd": "print(var_dic_list())"
    },
    "r": {
     "delete_cmd_postfix": ") ",
     "delete_cmd_prefix": "rm(",
     "library": "var_list.r",
     "varRefreshCmd": "cat(var_dic_list()) "
    }
   },
   "types_to_exclude": [
    "module",
    "function",
    "builtin_function_or_method",
    "instance",
    "_Feature"
   ],
   "window_display": false
  }
 },
 "nbformat": 4,
 "nbformat_minor": 2
}
