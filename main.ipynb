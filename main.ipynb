{
 "cells": [
  {
   "cell_type": "markdown",
   "metadata": {},
   "source": [
    "## Event camera demo\n",
    "**By Cedric Scheerlinck**  \n",
    "Tested on python3.7.5 and python3.7.6  \n",
    "Description: load and visualize events from a small dataset.  \n",
    "Based on: https://github.com/cedric-scheerlinck/dvs_image_reconstruction  \n",
    "\n",
    "**Video:** https://youtu.be/bZ0ZKido0Ag\n",
    "\n",
    "Note: If interact doesn't work, try enabling ipywidgets:  \n",
    "```jupyter nbextension enable --py widgetsnbextension```  \n",
    "and restarting jupyter notebook."
   ]
  },
  {
   "cell_type": "code",
   "execution_count": null,
   "metadata": {},
   "outputs": [],
   "source": [
    "from ipywidgets import interact, fixed, interact_manual, FloatSlider, IntSlider\n",
    "import math\n",
    "%matplotlib notebook\n",
    "from matplotlib import rc\n",
    "rc('animation', html='jshtml')\n",
    "import numpy as np\n",
    "\n",
    "# local modules\n",
    "from util import Timer, Event, normalize_image, animate, load_events, plot_3d, event_slice"
   ]
  },
  {
   "cell_type": "code",
   "execution_count": null,
   "metadata": {},
   "outputs": [],
   "source": [
    "def high_pass_filter(event_data, cutoff_frequency=5):\n",
    "    print('Reconstructing, please wait...')\n",
    "    events, height, width = event_data.event_list, event_data.height, event_data.width\n",
    "    events_per_frame = 2e4\n",
    "    with Timer('Reconstruction'):\n",
    "        time_surface = np.zeros((height, width), dtype=np.float32)\n",
    "        image_state = np.zeros((height, width), dtype=np.float32)\n",
    "        image_list = []\n",
    "        for i, e in enumerate(events):\n",
    "            beta = math.exp(-cutoff_frequency * (e.t - time_surface[e.y, e.x]))\n",
    "            image_state[e.y, e.x] = beta * image_state[e.y, e.x] + e.p\n",
    "            time_surface[e.y, e.x] = e.t\n",
    "            if i % events_per_frame == 0:\n",
    "                beta = np.exp(-cutoff_frequency * (e.t - time_surface))\n",
    "                image_state *= beta\n",
    "                time_surface.fill(e.t)\n",
    "                image_list.append(np.copy(image_state))\n",
    "    return animate(image_list, 'High Pass Filter')\n",
    "\n",
    "def leaky_integrator(event_data, beta=1.0):\n",
    "    print('Reconstructing, please wait...')\n",
    "    events, height, width = event_data.event_list, event_data.height, event_data.width\n",
    "    events_per_frame = 2e4\n",
    "    with Timer('Reconstruction (simple)'):\n",
    "        image_state = np.zeros((height, width), dtype=np.float32)\n",
    "        image_list = []\n",
    "        for i, e in enumerate(events):\n",
    "            image_state[e.y, e.x] = beta * image_state[e.y, e.x] + e.p\n",
    "            if i % events_per_frame == 0:\n",
    "                image_list.append(np.copy(image_state))\n",
    "    fig_title = 'Direct Integration' if beta == 1 else 'Leaky Integrator'\n",
    "    return animate(image_list, fig_title)\n"
   ]
  },
  {
   "cell_type": "code",
   "execution_count": null,
   "metadata": {},
   "outputs": [],
   "source": [
    "with Timer('Loading'):\n",
    "    n_events = 5e5\n",
    "    path_to_events = 'data/boxes_6dof/events.zip'\n",
    "    event_data = load_events(path_to_events, n_events)        "
   ]
  },
  {
   "cell_type": "markdown",
   "metadata": {},
   "source": [
    "## Event point cloud\n",
    "\n",
    "<span style=\"color:red\">Red = ON event (+1),</span> <span style=\"color:blue\">blue = OFF event (-1).</span>  \n",
    "Click and drag the 3D plot to rotate it."
   ]
  },
  {
   "cell_type": "code",
   "execution_count": null,
   "metadata": {},
   "outputs": [],
   "source": [
    "with Timer('3D plot'):\n",
    "    plot_3d(event_data, n_events=5e3)"
   ]
  },
  {
   "cell_type": "markdown",
   "metadata": {},
   "source": [
    "## Event slice\n",
    "\n",
    "Use the sliders to visualize a slice of events within a time window."
   ]
  },
  {
   "cell_type": "code",
   "execution_count": null,
   "metadata": {},
   "outputs": [],
   "source": [
    "interact(event_slice, event_data=fixed(event_data),\n",
    "         start=FloatSlider(min=0, max=1, step=0.01,continuous_update=False),\n",
    "         duration_ms=IntSlider(value=50, min=0, max=500, step=1, continuous_update=False));"
   ]
  },
  {
   "cell_type": "markdown",
   "metadata": {},
   "source": [
    "## Image reconstruction\n",
    "Run the cell, then click ```Run Interact``` and wait for the animation to appear to see the result.  \n",
    "Use the slider then click ```Run Interact``` again to try different settings.\n",
    "\n",
    "### Leaky integrator\n",
    "Equation: $L^{k+1}(x, y) = \\beta L^k(x, y) + p,\\ \\beta \\in [0, 1],\\ p \\in \\{-1, 1\\}$, where $L$ is the log image intensity and $p$ is the event polarity.\n",
    "\n",
    "#### Set ```beta = 1``` for direct integration. Try lowering beta to see what happens."
   ]
  },
  {
   "cell_type": "code",
   "execution_count": null,
   "metadata": {},
   "outputs": [],
   "source": [
    "interact_manual(leaky_integrator, event_data=fixed(event_data), beta=(0, 1, 0.01));"
   ]
  },
  {
   "cell_type": "markdown",
   "metadata": {},
   "source": [
    "### High pass filter\n",
    "Below is the high pass filter as described in: https://cedric-scheerlinck.github.io/files/2018_scheerlinck_continuous-time_intensity_estimation.pdf  \n",
    "Equation: $L^{k+1}(x, y) = \\exp(-\\alpha \\Delta t) L^k(x, y) + p$, where $\\alpha$ is the cutoff frequency and $\\Delta t$ is the time since the last event at the same pixel."
   ]
  },
  {
   "cell_type": "code",
   "execution_count": null,
   "metadata": {
    "scrolled": false
   },
   "outputs": [],
   "source": [
    "interact_manual(high_pass_filter, event_data=fixed(event_data), cutoff_frequency=(0, 20, 0.01));"
   ]
  },
  {
   "cell_type": "markdown",
   "metadata": {},
   "source": [
    "### Complementary filter\n",
    "Below is the complementary filter as described in: https://cedric-scheerlinck.github.io/files/2018_scheerlinck_continuous-time_intensity_estimation.pdf  \n",
    "Equation: $L^{k+1}(x, y) = \\exp(-\\alpha \\Delta t) L^k(x, y) + (1 - \\exp(-\\alpha \\Delta t)) L_F(x, y) + p$, where $\\alpha$ is the cutoff frequency, $\\Delta t$ is the time since the last event at the same pixel and $L_F$ is the log intensity of the image frame from a frame-based camera, e.g., DAVIS."
   ]
  },
  {
   "cell_type": "code",
   "execution_count": null,
   "metadata": {},
   "outputs": [],
   "source": [
    "event_data.add_frame_data('data/boxes_6dof')"
   ]
  },
  {
   "cell_type": "code",
   "execution_count": null,
   "metadata": {},
   "outputs": [],
   "source": [
    "def complementary_filter(event_data, cutoff_frequency=5.0):\n",
    "    print('Reconstructing, please wait...')\n",
    "    events, height, width = event_data.event_list, event_data.height, event_data.width\n",
    "    frames, frame_timestamps = event_data.frames, event_data.frame_timestamps\n",
    "    events_per_frame = 2e4\n",
    "    with Timer('Reconstruction'):\n",
    "        time_surface = np.zeros((height, width), dtype=np.float32)\n",
    "        image_state = np.zeros((height, width), dtype=np.float32)\n",
    "        image_list = []\n",
    "        frame_idx = 0\n",
    "        max_frame_idx = len(frames) - 1\n",
    "        log_frame = np.log(frames[0] + 1)\n",
    "        for i, e in enumerate(events):\n",
    "            if frame_idx < max_frame_idx:\n",
    "                if e.t >= frame_timestamps[frame_idx + 1]:\n",
    "                    log_frame = np.log(frames[frame_idx + 1] + 1)\n",
    "                    frame_idx += 1\n",
    "            beta = math.exp(-cutoff_frequency * (e.t - time_surface[e.y, e.x]))\n",
    "            image_state[e.y, e.x] = beta * image_state[e.y, e.x] \\\n",
    "                                    + (1 - beta) * log_frame[e.y, e.x] + 0.1 * e.p\n",
    "            time_surface[e.y, e.x] = e.t\n",
    "            if i % events_per_frame == 0:\n",
    "                beta = np.exp(-cutoff_frequency * (e.t - time_surface))\n",
    "                image_state = beta * image_state + (1 - beta) * log_frame\n",
    "                time_surface.fill(e.t)\n",
    "                image_list.append(np.copy(image_state))\n",
    "    return animate(image_list, 'Complementary Filter')"
   ]
  },
  {
   "cell_type": "code",
   "execution_count": null,
   "metadata": {},
   "outputs": [],
   "source": [
    "interact_manual(complementary_filter, event_data=fixed(event_data), cutoff_frequency=(0, 20, 0.01));"
   ]
  }
 ],
 "metadata": {
  "kernelspec": {
   "display_name": "Python 3",
   "language": "python3",
   "name": "python3"
  },
  "language_info": {
   "codemirror_mode": {
    "name": "ipython",
    "version": 3
   },
   "file_extension": ".py",
   "mimetype": "text/x-python",
   "name": "python",
   "nbconvert_exporter": "python",
   "pygments_lexer": "ipython3",
   "version": "3.7.6"
  },
  "varInspector": {
   "cols": {
    "lenName": 16,
    "lenType": 16,
    "lenVar": 40
   },
   "kernels_config": {
    "python": {
     "delete_cmd_postfix": "",
     "delete_cmd_prefix": "del ",
     "library": "var_list.py",
     "varRefreshCmd": "print(var_dic_list())"
    },
    "r": {
     "delete_cmd_postfix": ") ",
     "delete_cmd_prefix": "rm(",
     "library": "var_list.r",
     "varRefreshCmd": "cat(var_dic_list()) "
    }
   },
   "types_to_exclude": [
    "module",
    "function",
    "builtin_function_or_method",
    "instance",
    "_Feature"
   ],
   "window_display": false
  }
 },
 "nbformat": 4,
 "nbformat_minor": 2
}
