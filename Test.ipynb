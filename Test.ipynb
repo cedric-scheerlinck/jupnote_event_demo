{
 "cells": [
  {
   "cell_type": "code",
   "execution_count": 141,
   "metadata": {},
   "outputs": [],
   "source": [
    "import numpy as np\n",
    "import matplotlib.pyplot as plt\n",
    "import time"
   ]
  },
  {
   "cell_type": "code",
   "execution_count": 142,
   "metadata": {},
   "outputs": [],
   "source": [
    "class Timer:\n",
    "    def __init__(self, msg='Time elapsed'):\n",
    "        self.msg = msg\n",
    "    def __enter__(self):\n",
    "        self.start = time.time()\n",
    "        return self\n",
    "    def __exit__(self, *args):\n",
    "        self.end = time.time()\n",
    "        duration = self.end - self.start\n",
    "        print(f'{self.msg}: {duration:.2f}s')#.format(self.end - self.start))"
   ]
  },
  {
   "cell_type": "code",
   "execution_count": 143,
   "metadata": {},
   "outputs": [],
   "source": [
    "class Event:\n",
    "    __slots__ = 't', 'x', 'y', 'p'\n",
    "    def __init__(self, t, x, y, p):\n",
    "        self.t = t\n",
    "        self.x = x\n",
    "        self.y = y\n",
    "        self.p = p\n",
    "    def __repr__(self):\n",
    "        return f'Event(t={self.t:.3f}, x={self.x}, y={self.y}, p={self.p})'"
   ]
  },
  {
   "cell_type": "code",
   "execution_count": 144,
   "metadata": {},
   "outputs": [
    {
     "name": "stdout",
     "output_type": "stream",
     "text": [
      "[[6.96238026e-07 0.00000000e+00 6.00000000e+00 5.56920496e-01]\n",
      " [1.54582765e-06 0.00000000e+00 7.00000000e+00 8.29835430e-01]\n",
      " [2.85827786e-06 8.00000000e+00 4.00000000e+00 3.58674516e-01]\n",
      " [5.63783473e-06 6.00000000e+00 4.00000000e+00 7.08094524e-01]\n",
      " [9.25510048e-06 4.00000000e+00 2.00000000e+00 1.51847345e-01]]\n",
      "Loading: 0.33s\n"
     ]
    }
   ],
   "source": [
    "with Timer('Loading'):\n",
    "    event_array = np.random.rand(1000000, 4)\n",
    "    event_array = event_array[event_array[:, 0].argsort()]\n",
    "    event_array[:, 1:3] = np.floor(event_array[:, 1:3]*10)\n",
    "    print(event_array[:5,:])"
   ]
  },
  {
   "cell_type": "code",
   "execution_count": 145,
   "metadata": {},
   "outputs": [
    {
     "name": "stdout",
     "output_type": "stream",
     "text": [
      "Event(t=0.000, x=0, y=6, p=1)\n",
      "Event(t=0.000, x=0, y=7, p=1)\n",
      "Event(t=0.000, x=8, y=4, p=-1)\n",
      "Event(t=0.000, x=6, y=4, p=1)\n",
      "Event(t=0.000, x=4, y=2, p=-1)\n",
      "Converting: 5.85s\n"
     ]
    }
   ],
   "source": [
    "with Timer('Converting'):\n",
    "    event_list = []\n",
    "    for event in event_array:\n",
    "        t, x, y, p = event\n",
    "        event_list.append(Event(t, int(x), int(y), -1 if p < 0.5 else 1))\n",
    "    for e in event_list[:5]:\n",
    "        print(e)"
   ]
  },
  {
   "cell_type": "code",
   "execution_count": 146,
   "metadata": {},
   "outputs": [
    {
     "name": "stdout",
     "output_type": "stream",
     "text": [
      "Reconstruction: 5.73s\n"
     ]
    }
   ],
   "source": [
    "with Timer('Reconstruction'):\n",
    "    image_state = np.zeros((10, 10), dtype=np.float32)\n",
    "    for e in event_list:\n",
    "        image_state[e.y, e.x] += e.p"
   ]
  },
  {
   "cell_type": "code",
   "execution_count": 147,
   "metadata": {},
   "outputs": [
    {
     "data": {
      "image/png": "[encoded data removed]",
      "text/plain": [
       "<Figure size 432x288 with 1 Axes>"
      ]
     },
     "metadata": {
      "needs_background": "light"
     },
     "output_type": "display_data"
    }
   ],
   "source": [
    "plt.imshow(image_state, cmap='gray')\n",
    "plt.show()"
   ]
  },
  {
   "cell_type": "code",
   "execution_count": null,
   "metadata": {},
   "outputs": [],
   "source": []
  }
 ],
 "metadata": {
  "kernelspec": {
   "display_name": "Python 3",
   "language": "python",
   "name": "python3"
  },
  "language_info": {
   "codemirror_mode": {
    "name": "ipython",
    "version": 3
   },
   "file_extension": ".py",
   "mimetype": "text/x-python",
   "name": "python",
   "nbconvert_exporter": "python",
   "pygments_lexer": "ipython3",
   "version": "3.6.7"
  },
  "varInspector": {
   "cols": {
    "lenName": 16,
    "lenType": 16,
    "lenVar": 40
   },
   "kernels_config": {
    "python": {
     "delete_cmd_postfix": "",
     "delete_cmd_prefix": "del ",
     "library": "var_list.py",
     "varRefreshCmd": "print(var_dic_list())"
    },
    "r": {
     "delete_cmd_postfix": ") ",
     "delete_cmd_prefix": "rm(",
     "library": "var_list.r",
     "varRefreshCmd": "cat(var_dic_list()) "
    }
   },
   "types_to_exclude": [
    "module",
    "function",
    "builtin_function_or_method",
    "instance",
    "_Feature"
   ],
   "window_display": false
  }
 },
 "nbformat": 4,
 "nbformat_minor": 2
}
