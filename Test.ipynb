{
 "cells": [
  {
   "cell_type": "code",
   "execution_count": 24,
   "metadata": {},
   "outputs": [],
   "source": [
    "import numpy as np\n",
    "from IPython.display import HTML\n",
    "import time\n",
    "import pandas as pd\n",
    "import math\n",
    "import ipywidgets as widgets\n",
    "from ipywidgets import interact, fixed, interact_manual\n",
    "import matplotlib.pyplot as plt\n",
    "from matplotlib.animation import ArtistAnimation\n",
    "from matplotlib import rc\n",
    "rc('animation', html='jshtml')\n"
   ]
  },
  {
   "cell_type": "code",
   "execution_count": 10,
   "metadata": {},
   "outputs": [],
   "source": [
    "class Timer:\n",
    "    def __init__(self, msg='Time elapsed'):\n",
    "        self.msg = msg\n",
    "    def __enter__(self):\n",
    "        self.start = time.time()\n",
    "        return self\n",
    "    def __exit__(self, *args):\n",
    "        self.end = time.time()\n",
    "        duration = self.end - self.start\n",
    "        print(f'{self.msg}: {duration:.2f}s')\n",
    "\n",
    "class Event:\n",
    "    __slots__ = 't', 'x', 'y', 'p'\n",
    "    def __init__(self, t, x, y, p):\n",
    "        self.t = t\n",
    "        self.x = x\n",
    "        self.y = y\n",
    "        self.p = p\n",
    "    def __repr__(self):\n",
    "        return f'Event(t={self.t:.3f}, x={self.x}, y={self.y}, p={self.p})'\n"
   ]
  },
  {
   "cell_type": "code",
   "execution_count": 40,
   "metadata": {},
   "outputs": [],
   "source": [
    "def normalize_image(image, percentile_lower=1, percentile_upper=99):\n",
    "    mini, maxi = np.percentile(image, (percentile_lower, percentile_upper))\n",
    "    if mini == maxi:\n",
    "        return 0 * image + 0.5  # gray image\n",
    "    return np.clip((image - mini) / (maxi - mini + 1e-5), 0, 1)\n",
    "\n",
    "\n",
    "def animate(images):\n",
    "    fig = plt.figure()\n",
    "    ims = []\n",
    "    for image in images:\n",
    "        im = plt.imshow(normalize_image(image), cmap='gray', vmin=0, vmax=1, animated=True)\n",
    "        ims.append([im])\n",
    "    ani = ArtistAnimation(fig, ims, interval=50, blit=False, repeat_delay=1000)\n",
    "    plt.close(ani._fig)\n",
    "    return ani\n",
    "\n",
    "\n",
    "def high_pass_filter(events, cutoff_frequency=5):\n",
    "    print('Reconstructing, please wait...')\n",
    "    events_per_frame = 2e4\n",
    "    with Timer('Reconstruction'):\n",
    "        time_surface = np.zeros((height, width), dtype=np.float32)\n",
    "        image_state = np.zeros((height, width), dtype=np.float32)\n",
    "        image_list = []\n",
    "        for i, e in enumerate(events):\n",
    "            beta = math.exp(-cutoff_frequency * (e.t - time_surface[e.y, e.x]))\n",
    "            image_state[e.y, e.x] = beta * image_state[e.y, e.x] + e.p\n",
    "            time_surface[e.y, e.x] = e.t\n",
    "            if i % events_per_frame == 0:\n",
    "                beta = np.exp(-cutoff_frequency * (e.t - time_surface))\n",
    "                image_state *= beta\n",
    "                time_surface.fill(e.t)\n",
    "                image_list.append(np.copy(image_state))\n",
    "    return animate(image_list)\n",
    "\n",
    "def high_pass_filter_simple(events, beta=0.8):\n",
    "    print('Reconstructing, please wait...')\n",
    "    events_per_frame = 2e4\n",
    "    with Timer('Reconstruction (simple)'):\n",
    "        image_state = np.zeros((height, width), dtype=np.float32)\n",
    "        image_list = []\n",
    "        for i, e in enumerate(events):\n",
    "            image_state[e.y, e.x] = beta * image_state[e.y, e.x] + e.p\n",
    "            if i % events_per_frame == 0:\n",
    "                image_list.append(np.copy(image_state))\n",
    "    return animate(image_list)\n"
   ]
  },
  {
   "cell_type": "code",
   "execution_count": 39,
   "metadata": {},
   "outputs": [
    {
     "name": "stdout",
     "output_type": "stream",
     "text": [
      "width, height: 240, 180\n",
      "Loaded 2.00M events\n",
      "Loading: 4.81s\n"
     ]
    }
   ],
   "source": [
    "with Timer('Loading'):\n",
    "    n_events = 2e6\n",
    "    path_to_events = 'data/boxes_6dof/events.zip'\n",
    "    header = pd.read_csv(path_to_events, delim_whitespace=True, names=['width', 'height'],\n",
    "                         dtype={'width': np.int, 'height': np.int}, nrows=1)\n",
    "    width, height = header.values[0]\n",
    "    print(f'width, height: {width}, {height}')\n",
    "    event_pd = pd.read_csv(path_to_events, delim_whitespace=True, header=None,\n",
    "                              names=['t', 'x', 'y', 'p'],\n",
    "                              dtype={'t': np.float64, 'x': np.int16, 'y': np.int16, 'p': np.int8},\n",
    "                              engine='c', skiprows=1, nrows=n_events, memory_map=True)\n",
    "    event_list = []\n",
    "    for event in event_pd.values:\n",
    "        t, x, y, p = event\n",
    "        event_list.append(Event(t, int(x), int(y), -1 if p < 0.5 else 1))\n",
    "    print('Loaded {:.2f}M events'.format(len(event_list) / 1e6))\n",
    "        "
   ]
  },
  {
   "cell_type": "markdown",
   "metadata": {},
   "source": [
    "Click ```Run Interact``` then wait for the animation to appear to see the result.\n",
    "\n",
    "Use the slider then click ```Run Interact``` again to try different settings."
   ]
  },
  {
   "cell_type": "code",
   "execution_count": 45,
   "metadata": {
    "scrolled": false
   },
   "outputs": [
    {
     "data": {
      "application/vnd.jupyter.widget-view+json": {
       "model_id": "7996b4797eb54306a8b81626aa22ff40",
       "version_major": 2,
       "version_minor": 0
      },
      "text/plain": [
       "interactive(children=(FloatSlider(value=5.0, description='cutoff_frequency', max=30.0, step=0.01), Button(desc…"
      ]
     },
     "metadata": {},
     "output_type": "display_data"
    }
   ],
   "source": [
    "interact_manual(high_pass_filter, events=fixed(event_list), cutoff_frequency=(0, 30, 0.01));"
   ]
  },
  {
   "cell_type": "markdown",
   "metadata": {},
   "source": [
    "Set ```beta = 1``` for direct integration."
   ]
  },
  {
   "cell_type": "code",
   "execution_count": 43,
   "metadata": {},
   "outputs": [
    {
     "data": {
      "application/vnd.jupyter.widget-view+json": {
       "model_id": "8f62af0aa728488385ebb146b1428d60",
       "version_major": 2,
       "version_minor": 0
      },
      "text/plain": [
       "interactive(children=(FloatSlider(value=0.8, description='beta', max=1.0, step=0.01), Button(description='Run …"
      ]
     },
     "metadata": {},
     "output_type": "display_data"
    }
   ],
   "source": [
    "interact_manual(high_pass_filter_simple, events=fixed(event_list), beta=(0, 1, 0.01));"
   ]
  },
  {
   "cell_type": "code",
   "execution_count": null,
   "metadata": {},
   "outputs": [],
   "source": []
  }
 ],
 "metadata": {
  "kernelspec": {
   "display_name": "Python 3",
   "language": "python",
   "name": "python3"
  },
  "language_info": {
   "codemirror_mode": {
    "name": "ipython",
    "version": 3
   },
   "file_extension": ".py",
   "mimetype": "text/x-python",
   "name": "python",
   "nbconvert_exporter": "python",
   "pygments_lexer": "ipython3",
   "version": "3.7.6"
  },
  "varInspector": {
   "cols": {
    "lenName": 16,
    "lenType": 16,
    "lenVar": 40
   },
   "kernels_config": {
    "python": {
     "delete_cmd_postfix": "",
     "delete_cmd_prefix": "del ",
     "library": "var_list.py",
     "varRefreshCmd": "print(var_dic_list())"
    },
    "r": {
     "delete_cmd_postfix": ") ",
     "delete_cmd_prefix": "rm(",
     "library": "var_list.r",
     "varRefreshCmd": "cat(var_dic_list()) "
    }
   },
   "types_to_exclude": [
    "module",
    "function",
    "builtin_function_or_method",
    "instance",
    "_Feature"
   ],
   "window_display": false
  }
 },
 "nbformat": 4,
 "nbformat_minor": 2
}
